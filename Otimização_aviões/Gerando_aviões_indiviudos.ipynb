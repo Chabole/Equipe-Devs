{
 "cells": [
  {
   "cell_type": "code",
   "execution_count": 1,
   "metadata": {},
   "outputs": [],
   "source": [
    "import numpy as np\n",
    "import ZebraLib as zb\n",
    "import pandas as pd\n",
    "import matplotlib.pyplot as plt\n",
    "import random\n",
    "from tqdm import tqdm"
   ]
  },
  {
   "cell_type": "code",
   "execution_count": null,
   "metadata": {},
   "outputs": [],
   "source": [
    "def gerador(min=1, max=5, x=1): \n",
    "    if x==1: \n",
    "        return float(random.uniform(min, max))\n",
    "    else:\n",
    "        lista = np.empty((x))\n",
    "        for i in (range(x)): \n",
    "            lista[i]=(float(random.uniform(min, max)))\n",
    "        return lista\n",
    "\n",
    "it = int(10)\n",
    "S = gerador(0.5, 1.8, it)\n",
    "b = gerador(1, 2.5, it)\n",
    "Af = gerador(0.1, 1, it)\n",
    "CLn = gerador(1.3, 1.6, it)\n",
    "CLmax = gerador(1.3, 1.9, it)\n",
    "c = gerador(0.15, 0.8, it)\n",
    "h = gerador(0.05, 0.4, it)\n",
    "\n",
    "for x in tqdm(range(it)):\n",
    "    Zb = zb.Airplane()\n",
    "    Zb.S = S[x]; Zb.b = b[x]; Zb.c = c[x]; Zb.Af = Af[x]; Zb.CLmax = CLmax[x]; Zb.CLn = CLn[x]; Zb.z = h[x]\n",
    "    Zb.params_Calc\n",
    "    Zb.save('D:/Aviões_gerados.xlsx')"
   ]
  }
 ],
 "metadata": {
  "interpreter": {
   "hash": "894588d70223105318f3a6143f469ff55b12e3d45628534b2f37efc006a33ec3"
  },
  "kernelspec": {
   "display_name": "Python 3.8.8 ('base')",
   "language": "python",
   "name": "python3"
  },
  "language_info": {
   "codemirror_mode": {
    "name": "ipython",
    "version": 3
   },
   "file_extension": ".py",
   "mimetype": "text/x-python",
   "name": "python",
   "nbconvert_exporter": "python",
   "pygments_lexer": "ipython3",
   "version": "3.8.8"
  },
  "orig_nbformat": 4
 },
 "nbformat": 4,
 "nbformat_minor": 2
}
