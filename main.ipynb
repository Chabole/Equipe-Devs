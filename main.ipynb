{
 "cells": [
  {
   "cell_type": "markdown",
   "metadata": {},
   "source": [
    "Equações e teoria da página 99 do Miranda.\n",
    "\n",
    "Equação do volume de cauda horizontal\n",
    "$$\n",
    "\\begin{equation}\n",
    "V_{HT} = \\frac{I_{HT}.S_{HT}}{\\bar c.S} [2.62]\n",
    "\\end{equation}\n",
    "$$\n",
    "\n",
    "Valores recomendados\n",
    "\n",
    "$$\n",
    "\\begin{equation}\n",
    "0,35 < V_{HT} < 0,5\n",
    "\\end{equation}\n",
    "$$\n",
    "Equação do volume de cauda horizontal\n",
    " vertical\n",
    "$$\n",
    "V_{VT} = \\frac{I_{VT}.S_{VT}}{b.S}    [2.63]\n",
    "$$\n",
    "\n",
    "Valores recomendados\n",
    "\n",
    "$$\n",
    "0,04 < V_{VT} < 0,06\n",
    "$$\n",
    "\n",
    "# Código antigo do sorriso"
   ]
  },
  {
   "cell_type": "code",
   "execution_count": 1,
   "metadata": {},
   "outputs": [
    {
     "data": {
      "text/plain": [
       "(-0.1825465, 0.9404764999999999, -0.17415365850066322, 0.13722682851392787)"
      ]
     },
     "execution_count": 1,
     "metadata": {},
     "output_type": "execute_result"
    },
    {
     "data": {
      "image/png": "[encoded data removed]",
      "text/plain": [
       "<Figure size 432x288 with 2 Axes>"
      ]
     },
     "metadata": {
      "needs_background": "light"
     },
     "output_type": "display_data"
    }
   ],
   "source": [
    "import numpy as np\n",
    "import matplotlib.pyplot as plt\n",
    "\n",
    "calc = (3.2-1.86) - ((1 / 4) * 0.526)\n",
    "\n",
    "x = 889.43 / 1000\n",
    "S = 0.843\n",
    "b = 1.86\n",
    "c_medium = 0.463\n",
    "AR = 3\n",
    "teta = np.linspace(np.pi/36, np.pi/18, 20)\n",
    "# l_ht = 0.67874\n",
    "cht = np.linspace(.150,.400, 20)\n",
    "s_it = (cht ** 2) * AR\n",
    "# bht = (s_it / cht)\n",
    "\n",
    "V_ht = [0.35, 0.5]\n",
    "\n",
    "# s_it = np.linspace(0,1,200)\n",
    "Vht = list(); Sht_old = list(); lht_save = list(); lht_f = list(); Sht_f = list(); teta_save = list()\n",
    "\n",
    "for k in teta:\n",
    "    l_ht = (x - cht * (3 / 4)) / np.cos(k)\n",
    "    for i, S_ht in enumerate(s_it):\n",
    "        Vht_test = ((l_ht) * S_ht) / (c_medium * S)\n",
    "        for j in range(0, len(Vht_test)):\n",
    "            x_test = l_ht[j] * np.cos(k) + (3 / 4) * (S_ht / AR) ** (1 / 2)\n",
    "            if (Vht_test[j] >= V_ht[0] and Vht_test[j] <= V_ht[1] and x_test <= x and x_test >= x*0.99):\n",
    "                Vht.append(Vht_test[j])\n",
    "                Sht_old.append(S_ht)\n",
    "                lht_save.append(l_ht[j])\n",
    "                teta_save.append(k)\n",
    "        \n",
    "Sht_n = np.array(Sht_old)\n",
    "lht_n = np.array(lht_save)\n",
    "\n",
    "# for indx, i in enumerate(lht_save):\n",
    "#     if i >= (max(lht_save) * 0.99):\n",
    "#         lht_f.append(i)\n",
    "#         Sht_f.append(Sht_old[indx])\n",
    "\n",
    "# Sht_n = np.array(Sht_f)\n",
    "# lht_n = np.array(lht_f)\n",
    "\n",
    "c_ht = (Sht_n / AR) ** (1 / 2)\n",
    "b_ht = (Sht_n / c_ht)\n",
    "\n",
    "data = np.array((Vht, lht_n, c_ht, b_ht, teta_save))\n",
    "\n",
    "cont = 0\n",
    "for i in range(0, len(data[1])):\n",
    "    it = i - cont\n",
    "    if (data[1][it] < (0.999 * max(data[1]))):\n",
    "        data = np.delete(data, it, 1)\n",
    "        cont += 1\n",
    "\n",
    "cont = 0\n",
    "for i in range(0, len(data[0])):\n",
    "    it = i - cont\n",
    "    if (data[0][it] < (0.999 * max(data[0]))):\n",
    "        data = np.delete(data, it, 1)\n",
    "        cont += 1\n",
    "\n",
    "x_cord = np.empty((len(data[4])))\n",
    "y_cord = np.empty((len(data[4])))\n",
    "\n",
    "\n",
    "for i in range(0, len(data[4])):\n",
    "    y_cord[i] = data[1][i] * np.sin(data[4][i])\n",
    "    x_cord[i] = data[1][i] * np.cos(data[4][i])\n",
    "\n",
    "\n",
    "fig, (ax1, ax2) = plt.subplots(2,1)\n",
    "for i in range(0,len(data[0])):\n",
    "    \n",
    "    ax1.plot([0, data[3][i]], [0, 0]) \n",
    "    ax1.plot([data[3][i], data[3][i]], [0, data[2][i]])\n",
    "    ax1.plot([0, data[3][i]], [data[2][i], data[2][i]]) \n",
    "    ax1.plot([0, 0], [0, data[2][i]])\n",
    "    ax2.plot([(x_cord[i] - (data[2][i] / 4)), x_cord[i] + ((3/4) * data[2][i])], [y_cord[i], y_cord[i]])\n",
    "\n",
    "ax2.plot([-(1/4)*0.526,(3/4)*0.526],[0,0])\n",
    "ax2.plot([0,0], [0,-0.16])\n",
    "ax2.set_xlim(0, 1)\n",
    "plt.axis('equal')\n",
    "\n",
    "# Vvt = (l_vt * S_vt) / (b * S) \n",
    "\n"
   ]
  },
  {
   "cell_type": "markdown",
   "metadata": {},
   "source": []
  },
  {
   "cell_type": "code",
   "execution_count": 1,
   "metadata": {},
   "outputs": [
    {
     "name": "stderr",
     "output_type": "stream",
     "text": [
      "C:\\Users\\arthu\\anaconda3\\ZebraLib\\zebralib\\zebraperformance.py:1751: RuntimeWarning: invalid value encountered in arcsin\n",
      "  theta = np.degrees(np.arcsin(RC / V))\n"
     ]
    }
   ],
   "source": [
    "import ZebraLib as zb\n",
    "import pandas as pd\n",
    "import numpy as np\n",
    "import matplotlib.pyplot as plt\n",
    "\n",
    "Zb = zb.Airplane()\n",
    "\n",
    "Zb1 = zb.Airplane(name='v_1.0', S= 1.011, b=2.10, CLmax= 1.45, Load=6)\n",
    "\n",
    "Zb2 = zb.Airplane(name='v_2.0', S= 0.969, b=2.10, CLmax= 1.45, Load=6)\n",
    "\n",
    "Zb3 = zb.Airplane(name='v_3.0', S= 1.036, b=2.10,CLmax= 1.42, Load=6)\n",
    "\n",
    "Zb4 = zb.Airplane(name='v_4.0', S= 1.048, b=2.10, CLmax = 1.408, Load=6)\n",
    "\n",
    "Zb5 = zb.Airplane(name='v_5.0', S= 1.504, b=2.10, CLmax = 1.278, Load=6)\n",
    "\n",
    "Zb6 = zb.Airplane(name='v_6.0', S= 0.86, b=2.10,CLmax = 1.632, Load=6)\n",
    "\n",
    "\n",
    "#Zb.info(rho=zb.alt2rho(1212)).iloc[[1]]\n",
    "#Zb.info(rho=zb.alt2rho(1212))\n",
    "\n",
    "df0 = Zb.info(rho=zb.alt2rho(1212)).T[['S', 'V_decolagem', 'Distancia_decolagem(s/efeito_solo)', \n",
    "                                'Razão_max_subida', 'Carga_total']].T\n",
    "\n",
    "df1 = Zb1.info(rho=zb.alt2rho(1212)).T[['S', 'V_decolagem', 'Distancia_decolagem(s/efeito_solo)', \n",
    "                                'Razão_max_subida', 'Carga_total']].T\n",
    "\n",
    "df2 = Zb2.info(rho=zb.alt2rho(1212)).T[['S', 'V_decolagem', 'Distancia_decolagem(s/efeito_solo)', \n",
    "                                'Razão_max_subida', 'Carga_total']].T\n",
    "\n",
    "df3 = Zb3.info(rho=zb.alt2rho(1212)).T[['S', 'V_decolagem', 'Distancia_decolagem(s/efeito_solo)', \n",
    "                                'Razão_max_subida', 'Carga_total']].T\n",
    "\n",
    "df4 = Zb4.info(rho=zb.alt2rho(1212)).T[['S', 'V_decolagem', 'Distancia_decolagem(s/efeito_solo)', \n",
    "                                'Razão_max_subida', 'Carga_total']].T\n",
    "\n",
    "df5 = Zb5.info(rho=zb.alt2rho(1212)).T[['S', 'V_decolagem', 'Distancia_decolagem(s/efeito_solo)', \n",
    "                                'Razão_max_subida', 'Carga_total']].T\n",
    "\n",
    "df6 = Zb6.info(rho=zb.alt2rho(1212)).T[['S', 'V_decolagem', 'Distancia_decolagem(s/efeito_solo)', \n",
    "                                'Razão_max_subida', 'Carga_total']].T\n",
    "                                "
   ]
  },
  {
   "cell_type": "code",
   "execution_count": 2,
   "metadata": {},
   "outputs": [
    {
     "data": {
      "text/html": [
       "<div>\n",
       "<style scoped>\n",
       "    .dataframe tbody tr th:only-of-type {\n",
       "        vertical-align: middle;\n",
       "    }\n",
       "\n",
       "    .dataframe tbody tr th {\n",
       "        vertical-align: top;\n",
       "    }\n",
       "\n",
       "    .dataframe thead th {\n",
       "        text-align: right;\n",
       "    }\n",
       "</style>\n",
       "<table border=\"1\" class=\"dataframe\">\n",
       "  <thead>\n",
       "    <tr style=\"text-align: right;\">\n",
       "      <th></th>\n",
       "      <th>Zb 2021</th>\n",
       "      <th>v_1.0</th>\n",
       "      <th>v_2.0</th>\n",
       "      <th>v_3.0</th>\n",
       "      <th>v_4.0</th>\n",
       "      <th>v_5.0</th>\n",
       "      <th>v_6.0</th>\n",
       "    </tr>\n",
       "  </thead>\n",
       "  <tbody>\n",
       "    <tr>\n",
       "      <th>S</th>\n",
       "      <td>0.843</td>\n",
       "      <td>1.011</td>\n",
       "      <td>0.969</td>\n",
       "      <td>1.036</td>\n",
       "      <td>1.048</td>\n",
       "      <td>1.504</td>\n",
       "      <td>0.86</td>\n",
       "    </tr>\n",
       "    <tr>\n",
       "      <th>V_decolagem</th>\n",
       "      <td>13.046375</td>\n",
       "      <td>12.552238</td>\n",
       "      <td>12.821383</td>\n",
       "      <td>12.530163</td>\n",
       "      <td>12.511195</td>\n",
       "      <td>10.962041</td>\n",
       "      <td>12.828369</td>\n",
       "    </tr>\n",
       "    <tr>\n",
       "      <th>Distancia_decolagem(s/efeito_solo)</th>\n",
       "      <td>35.66224</td>\n",
       "      <td>34.491377</td>\n",
       "      <td>36.005583</td>\n",
       "      <td>34.626071</td>\n",
       "      <td>34.805964</td>\n",
       "      <td>29.658098</td>\n",
       "      <td>34.526791</td>\n",
       "    </tr>\n",
       "    <tr>\n",
       "      <th>Razão_max_subida</th>\n",
       "      <td>2.167234</td>\n",
       "      <td>2.179827</td>\n",
       "      <td>2.177856</td>\n",
       "      <td>2.180925</td>\n",
       "      <td>2.181433</td>\n",
       "      <td>2.194737</td>\n",
       "      <td>2.171841</td>\n",
       "    </tr>\n",
       "    <tr>\n",
       "      <th>Carga_total</th>\n",
       "      <td>8.4</td>\n",
       "      <td>8.9</td>\n",
       "      <td>8.9</td>\n",
       "      <td>8.9</td>\n",
       "      <td>8.9</td>\n",
       "      <td>8.9</td>\n",
       "      <td>8.9</td>\n",
       "    </tr>\n",
       "  </tbody>\n",
       "</table>\n",
       "</div>"
      ],
      "text/plain": [
       "                                      Zb 2021      v_1.0      v_2.0  \\\n",
       "S                                       0.843      1.011      0.969   \n",
       "V_decolagem                         13.046375  12.552238  12.821383   \n",
       "Distancia_decolagem(s/efeito_solo)   35.66224  34.491377  36.005583   \n",
       "Razão_max_subida                     2.167234   2.179827   2.177856   \n",
       "Carga_total                               8.4        8.9        8.9   \n",
       "\n",
       "                                        v_3.0      v_4.0      v_5.0      v_6.0  \n",
       "S                                       1.036      1.048      1.504       0.86  \n",
       "V_decolagem                         12.530163  12.511195  10.962041  12.828369  \n",
       "Distancia_decolagem(s/efeito_solo)  34.626071  34.805964  29.658098  34.526791  \n",
       "Razão_max_subida                     2.180925   2.181433   2.194737   2.171841  \n",
       "Carga_total                               8.9        8.9        8.9        8.9  "
      ]
     },
     "execution_count": 2,
     "metadata": {},
     "output_type": "execute_result"
    }
   ],
   "source": [
    "pd.concat([df0, df1, df2, df3, df4, df5, df6], axis=1)"
   ]
  },
  {
   "cell_type": "code",
   "execution_count": 101,
   "metadata": {},
   "outputs": [
    {
     "name": "stderr",
     "output_type": "stream",
     "text": [
      "100%|██████████| 1000/1000 [01:20<00:00, 12.39it/s]\n"
     ]
    }
   ],
   "source": [
    "from Alpha_MDO import *\n",
    "from tqdm import tqdm\n",
    "\n",
    "it = 1000\n",
    "list_i = gerador(it, 0.5, 1.2)\n",
    "list_j = gerador(it, 1.2, 1.9)\n",
    "\n",
    "S = np.empty((it))\n",
    "\n",
    "for i in tqdm(range(len(list_i))):    \n",
    "\n",
    "    Zb_ = zb.Airplane(name='v_3.0', S=list_i[i], CLmax=list_j[i])\n",
    "    S[i] = Zb_.takeOff_Distance_EDO(zb.alt2rho(1212))"
   ]
  },
  {
   "cell_type": "code",
   "execution_count": 71,
   "metadata": {},
   "outputs": [
    {
     "data": {
      "text/html": [
       "<div>\n",
       "<style scoped>\n",
       "    .dataframe tbody tr th:only-of-type {\n",
       "        vertical-align: middle;\n",
       "    }\n",
       "\n",
       "    .dataframe tbody tr th {\n",
       "        vertical-align: top;\n",
       "    }\n",
       "\n",
       "    .dataframe thead th {\n",
       "        text-align: right;\n",
       "    }\n",
       "</style>\n",
       "<table border=\"1\" class=\"dataframe\">\n",
       "  <thead>\n",
       "    <tr style=\"text-align: right;\">\n",
       "      <th></th>\n",
       "      <th>S</th>\n",
       "      <th>CLmax</th>\n",
       "      <th>Dist_decolagem</th>\n",
       "    </tr>\n",
       "  </thead>\n",
       "  <tbody>\n",
       "    <tr>\n",
       "      <th>0</th>\n",
       "      <td>1.167942</td>\n",
       "      <td>1.407407</td>\n",
       "      <td>29.435187</td>\n",
       "    </tr>\n",
       "    <tr>\n",
       "      <th>1</th>\n",
       "      <td>0.925071</td>\n",
       "      <td>1.244534</td>\n",
       "      <td>45.306109</td>\n",
       "    </tr>\n",
       "    <tr>\n",
       "      <th>2</th>\n",
       "      <td>0.787766</td>\n",
       "      <td>1.769335</td>\n",
       "      <td>30.596566</td>\n",
       "    </tr>\n",
       "    <tr>\n",
       "      <th>3</th>\n",
       "      <td>1.054116</td>\n",
       "      <td>1.529495</td>\n",
       "      <td>28.212896</td>\n",
       "    </tr>\n",
       "    <tr>\n",
       "      <th>4</th>\n",
       "      <td>0.974846</td>\n",
       "      <td>1.848094</td>\n",
       "      <td>22.965971</td>\n",
       "    </tr>\n",
       "    <tr>\n",
       "      <th>...</th>\n",
       "      <td>...</td>\n",
       "      <td>...</td>\n",
       "      <td>...</td>\n",
       "    </tr>\n",
       "    <tr>\n",
       "      <th>995</th>\n",
       "      <td>0.576686</td>\n",
       "      <td>1.758780</td>\n",
       "      <td>44.762490</td>\n",
       "    </tr>\n",
       "    <tr>\n",
       "      <th>996</th>\n",
       "      <td>1.171499</td>\n",
       "      <td>1.279352</td>\n",
       "      <td>34.698343</td>\n",
       "    </tr>\n",
       "    <tr>\n",
       "      <th>997</th>\n",
       "      <td>0.758942</td>\n",
       "      <td>1.625271</td>\n",
       "      <td>36.243283</td>\n",
       "    </tr>\n",
       "    <tr>\n",
       "      <th>998</th>\n",
       "      <td>0.735793</td>\n",
       "      <td>1.669433</td>\n",
       "      <td>35.855120</td>\n",
       "    </tr>\n",
       "    <tr>\n",
       "      <th>999</th>\n",
       "      <td>1.165387</td>\n",
       "      <td>1.826910</td>\n",
       "      <td>19.741013</td>\n",
       "    </tr>\n",
       "  </tbody>\n",
       "</table>\n",
       "<p>1000 rows × 3 columns</p>\n",
       "</div>"
      ],
      "text/plain": [
       "            S     CLmax  Dist_decolagem\n",
       "0    1.167942  1.407407       29.435187\n",
       "1    0.925071  1.244534       45.306109\n",
       "2    0.787766  1.769335       30.596566\n",
       "3    1.054116  1.529495       28.212896\n",
       "4    0.974846  1.848094       22.965971\n",
       "..        ...       ...             ...\n",
       "995  0.576686  1.758780       44.762490\n",
       "996  1.171499  1.279352       34.698343\n",
       "997  0.758942  1.625271       36.243283\n",
       "998  0.735793  1.669433       35.855120\n",
       "999  1.165387  1.826910       19.741013\n",
       "\n",
       "[1000 rows x 3 columns]"
      ]
     },
     "execution_count": 71,
     "metadata": {},
     "output_type": "execute_result"
    }
   ],
   "source": [
    "df = pd.DataFrame()\n",
    "\n",
    "df['S'] = list_i\n",
    "df['CLmax'] = list_j\n",
    "df['Dist_decolagem'] = S\n",
    "\n",
    "df"
   ]
  },
  {
   "cell_type": "code",
   "execution_count": 74,
   "metadata": {},
   "outputs": [
    {
     "data": {
      "text/html": [
       "<div>\n",
       "<style scoped>\n",
       "    .dataframe tbody tr th:only-of-type {\n",
       "        vertical-align: middle;\n",
       "    }\n",
       "\n",
       "    .dataframe tbody tr th {\n",
       "        vertical-align: top;\n",
       "    }\n",
       "\n",
       "    .dataframe thead th {\n",
       "        text-align: right;\n",
       "    }\n",
       "</style>\n",
       "<table border=\"1\" class=\"dataframe\">\n",
       "  <thead>\n",
       "    <tr style=\"text-align: right;\">\n",
       "      <th></th>\n",
       "      <th>S</th>\n",
       "      <th>CLmax</th>\n",
       "      <th>Dist_decolagem</th>\n",
       "    </tr>\n",
       "  </thead>\n",
       "  <tbody>\n",
       "    <tr>\n",
       "      <th>916</th>\n",
       "      <td>1.17142</td>\n",
       "      <td>1.87996</td>\n",
       "      <td>18.834232</td>\n",
       "    </tr>\n",
       "  </tbody>\n",
       "</table>\n",
       "</div>"
      ],
      "text/plain": [
       "           S    CLmax  Dist_decolagem\n",
       "916  1.17142  1.87996       18.834232"
      ]
     },
     "execution_count": 74,
     "metadata": {},
     "output_type": "execute_result"
    }
   ],
   "source": [
    "df[df['Dist_decolagem'] == min(df['Dist_decolagem'])]"
   ]
  },
  {
   "cell_type": "markdown",
   "metadata": {},
   "source": [
    "## Como a altura do avião influência na decolagem"
   ]
  },
  {
   "cell_type": "code",
   "execution_count": 89,
   "metadata": {},
   "outputs": [
    {
     "name": "stderr",
     "output_type": "stream",
     "text": [
      "100%|██████████| 50/50 [00:02<00:00, 20.74it/s]\n"
     ]
    }
   ],
   "source": [
    "alturas = np.linspace(0.1, 0.3)\n",
    "\n",
    "S = np.empty((len(alturas)))\n",
    "\n",
    "for i in tqdm(range(len(alturas))):\n",
    "    Zb_ = zb.Airplane(z=alturas[i])\n",
    "    S[i] = Zb_.takeOff_Distance_AproxMiranda(zb.alt2rho(1212), True)"
   ]
  },
  {
   "cell_type": "code",
   "execution_count": 90,
   "metadata": {},
   "outputs": [
    {
     "data": {
      "text/plain": [
       "[<matplotlib.lines.Line2D at 0x2a26f616a90>]"
      ]
     },
     "execution_count": 90,
     "metadata": {},
     "output_type": "execute_result"
    },
    {
     "data": {
      "image/png": "[encoded data removed]",
      "text/plain": [
       "<Figure size 432x288 with 1 Axes>"
      ]
     },
     "metadata": {
      "needs_background": "light"
     },
     "output_type": "display_data"
    }
   ],
   "source": [
    "fig, ax = plt.subplots()\n",
    "ax.set(xlabel='Distância de pista de decolagem', ylabel='Altura do avião')\n",
    "ax.plot(S, alturas)"
   ]
  },
  {
   "cell_type": "code",
   "execution_count": null,
   "metadata": {},
   "outputs": [],
   "source": []
  }
 ],
 "metadata": {
  "interpreter": {
   "hash": "894588d70223105318f3a6143f469ff55b12e3d45628534b2f37efc006a33ec3"
  },
  "kernelspec": {
   "display_name": "Python 3.8.8 ('base')",
   "language": "python",
   "name": "python3"
  },
  "language_info": {
   "codemirror_mode": {
    "name": "ipython",
    "version": 3
   },
   "file_extension": ".py",
   "mimetype": "text/x-python",
   "name": "python",
   "nbconvert_exporter": "python",
   "pygments_lexer": "ipython3",
   "version": "3.8.8"
  },
  "orig_nbformat": 4
 },
 "nbformat": 4,
 "nbformat_minor": 2
}
