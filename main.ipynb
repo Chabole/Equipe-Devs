{
 "cells": [
  {
   "cell_type": "markdown",
   "metadata": {},
   "source": [
    "Equações e teoria da página 99 do Miranda.\n",
    "\n",
    "Equação do volume de cauda horizontal\n",
    "$$\n",
    "\\begin{equation}\n",
    "V_{HT} = \\frac{I_{HT}.S_{HT}}{\\bar c.S} [2.62]\n",
    "\\end{equation}\n",
    "$$\n",
    "\n",
    "Valores recomendados\n",
    "\n",
    "$$\n",
    "\\begin{equation}\n",
    "0,35 < V_{HT} < 0,5\n",
    "\\end{equation}\n",
    "$$\n",
    "Equação do volume de cauda horizontal\n",
    " vertical\n",
    "$$\n",
    "V_{VT} = \\frac{I_{VT}.S_{VT}}{b.S}    [2.63]\n",
    "$$\n",
    "\n",
    "Valores recomendados\n",
    "\n",
    "$$\n",
    "0,04 < V_{VT} < 0,06\n",
    "$$\n",
    "\n",
    "# Código antigo do sorriso"
   ]
  },
  {
   "cell_type": "code",
   "execution_count": 1,
   "metadata": {},
   "outputs": [
    {
     "data": {
      "text/plain": [
       "(-0.1825465, 0.9404764999999999, -0.17415365850066322, 0.13722682851392787)"
      ]
     },
     "execution_count": 1,
     "metadata": {},
     "output_type": "execute_result"
    },
    {
     "data": {
      "image/png": "[encoded data removed]",
      "text/plain": [
       "<Figure size 432x288 with 2 Axes>"
      ]
     },
     "metadata": {
      "needs_background": "light"
     },
     "output_type": "display_data"
    }
   ],
   "source": [
    "import numpy as np\n",
    "import matplotlib.pyplot as plt\n",
    "\n",
    "calc = (3.2-1.86) - ((1 / 4) * 0.526)\n",
    "\n",
    "x = 889.43 / 1000\n",
    "S = 0.843\n",
    "b = 1.86\n",
    "c_medium = 0.463\n",
    "AR = 3\n",
    "teta = np.linspace(np.pi/36, np.pi/18, 20)\n",
    "# l_ht = 0.67874\n",
    "cht = np.linspace(.150,.400, 20)\n",
    "s_it = (cht ** 2) * AR\n",
    "# bht = (s_it / cht)\n",
    "\n",
    "V_ht = [0.35, 0.5]\n",
    "\n",
    "# s_it = np.linspace(0,1,200)\n",
    "Vht = list(); Sht_old = list(); lht_save = list(); lht_f = list(); Sht_f = list(); teta_save = list()\n",
    "\n",
    "for k in teta:\n",
    "    l_ht = (x - cht * (3 / 4)) / np.cos(k)\n",
    "    for i, S_ht in enumerate(s_it):\n",
    "        Vht_test = ((l_ht) * S_ht) / (c_medium * S)\n",
    "        for j in range(0, len(Vht_test)):\n",
    "            x_test = l_ht[j] * np.cos(k) + (3 / 4) * (S_ht / AR) ** (1 / 2)\n",
    "            if (Vht_test[j] >= V_ht[0] and Vht_test[j] <= V_ht[1] and x_test <= x and x_test >= x*0.99):\n",
    "                Vht.append(Vht_test[j])\n",
    "                Sht_old.append(S_ht)\n",
    "                lht_save.append(l_ht[j])\n",
    "                teta_save.append(k)\n",
    "        \n",
    "Sht_n = np.array(Sht_old)\n",
    "lht_n = np.array(lht_save)\n",
    "\n",
    "# for indx, i in enumerate(lht_save):\n",
    "#     if i >= (max(lht_save) * 0.99):\n",
    "#         lht_f.append(i)\n",
    "#         Sht_f.append(Sht_old[indx])\n",
    "\n",
    "# Sht_n = np.array(Sht_f)\n",
    "# lht_n = np.array(lht_f)\n",
    "\n",
    "c_ht = (Sht_n / AR) ** (1 / 2)\n",
    "b_ht = (Sht_n / c_ht)\n",
    "\n",
    "data = np.array((Vht, lht_n, c_ht, b_ht, teta_save))\n",
    "\n",
    "cont = 0\n",
    "for i in range(0, len(data[1])):\n",
    "    it = i - cont\n",
    "    if (data[1][it] < (0.999 * max(data[1]))):\n",
    "        data = np.delete(data, it, 1)\n",
    "        cont += 1\n",
    "\n",
    "cont = 0\n",
    "for i in range(0, len(data[0])):\n",
    "    it = i - cont\n",
    "    if (data[0][it] < (0.999 * max(data[0]))):\n",
    "        data = np.delete(data, it, 1)\n",
    "        cont += 1\n",
    "\n",
    "x_cord = np.empty((len(data[4])))\n",
    "y_cord = np.empty((len(data[4])))\n",
    "\n",
    "\n",
    "for i in range(0, len(data[4])):\n",
    "    y_cord[i] = data[1][i] * np.sin(data[4][i])\n",
    "    x_cord[i] = data[1][i] * np.cos(data[4][i])\n",
    "\n",
    "\n",
    "fig, (ax1, ax2) = plt.subplots(2,1)\n",
    "for i in range(0,len(data[0])):\n",
    "    \n",
    "    ax1.plot([0, data[3][i]], [0, 0]) \n",
    "    ax1.plot([data[3][i], data[3][i]], [0, data[2][i]])\n",
    "    ax1.plot([0, data[3][i]], [data[2][i], data[2][i]]) \n",
    "    ax1.plot([0, 0], [0, data[2][i]])\n",
    "    ax2.plot([(x_cord[i] - (data[2][i] / 4)), x_cord[i] + ((3/4) * data[2][i])], [y_cord[i], y_cord[i]])\n",
    "\n",
    "ax2.plot([-(1/4)*0.526,(3/4)*0.526],[0,0])\n",
    "ax2.plot([0,0], [0,-0.16])\n",
    "ax2.set_xlim(0, 1)\n",
    "plt.axis('equal')\n",
    "\n",
    "# Vvt = (l_vt * S_vt) / (b * S) \n",
    "\n"
   ]
  },
  {
   "cell_type": "markdown",
   "metadata": {},
   "source": []
  },
  {
   "cell_type": "code",
   "execution_count": null,
   "metadata": {},
   "outputs": [],
   "source": []
  }
 ],
 "metadata": {
  "interpreter": {
   "hash": "894588d70223105318f3a6143f469ff55b12e3d45628534b2f37efc006a33ec3"
  },
  "kernelspec": {
   "display_name": "Python 3.8.8 ('base')",
   "language": "python",
   "name": "python3"
  },
  "language_info": {
   "codemirror_mode": {
    "name": "ipython",
    "version": 3
   },
   "file_extension": ".py",
   "mimetype": "text/x-python",
   "name": "python",
   "nbconvert_exporter": "python",
   "pygments_lexer": "ipython3",
   "version": "3.8.8"
  },
  "orig_nbformat": 4
 },
 "nbformat": 4,
 "nbformat_minor": 2
}
