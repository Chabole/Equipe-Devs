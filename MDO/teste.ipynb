{
 "cells": [
  {
   "cell_type": "code",
   "execution_count": 2,
   "metadata": {},
   "outputs": [],
   "source": [
    "import numpy as np\n",
    "import ZebraLib as zb\n",
    "import time \n",
    "import pandas as pd\n",
    "import Alpha_MDO as mdo\n",
    "class Aviao():\n",
    "\n",
    "    def __init__(self, b=1.86, S=0.843, Af = 0.601, CLn = 1.080, CLmax = 1.5193, c = 0.463):\n",
    "        self.b = b\n",
    "        self.S = S\n",
    "        self.Af = Af\n",
    "        self.CLn = CLn\n",
    "        self.CLmax = CLmax\n",
    "        self.c = c\n",
    "\n",
    "    def dados(self):\n",
    "        self.S = np.linspace(0.5, 1.5, 10000)\n",
    "        self.b = np.linspace(1.5, 2.5, 10000)\n",
    "        self.Af = np.linspace(0.2, 1, 10000)\n",
    "        self.CLn = np.linspace(1.3, 1.87, 10000)\n",
    "        self.c = np.linspace(0.2, 0.8, 10000)\n",
    "\n",
    "        z = list()\n",
    "        for x in range(5):\n",
    "            p = zb.Airplane(S=self.S[x], b=self.b[x], Af=self.Af[x], CLn=self.CLn[x], c=self.c[x])\n",
    "            z.append(p)\n",
    "        return z"
   ]
  },
  {
   "cell_type": "code",
   "execution_count": 3,
   "metadata": {},
   "outputs": [
    {
     "name": "stdout",
     "output_type": "stream",
     "text": [
      "0.3700835704803467 0    Nome= Zb 2021\n",
      "1    Nome= Zb 2021\n",
      "2    Nome= Zb 2021\n",
      "3    Nome= Zb 2021\n",
      "4    Nome= Zb 2021\n",
      "Name: 0, dtype: object\n"
     ]
    }
   ],
   "source": [
    "\n",
    "start = time.time()\n",
    "teste = Aviao()\n",
    "a = teste.dados()\n",
    "df = pd.DataFrame(a)\n",
    "print(time.time() - start, df[0].head())"
   ]
  },
  {
   "cell_type": "code",
   "execution_count": 6,
   "metadata": {},
   "outputs": [
    {
     "name": "stderr",
     "output_type": "stream",
     "text": [
      "C:\\Users\\Leone\\AppData\\Local\\Temp\\ipykernel_12964\\3998057664.py:6: VisibleDeprecationWarning: Creating an ndarray from ragged nested sequences (which is a list-or-tuple of lists-or-tuples-or ndarrays with different lengths or shapes) is deprecated. If you meant to do this, you must specify 'dtype=object' when creating the ndarray.\n",
      "  wings = np.array([[S],[b],[Af],[CLn],[c]])\n"
     ]
    },
    {
     "data": {
      "text/plain": [
       "array([0.5       , 0.55263158, 0.60526316, 0.65789474, 0.71052632,\n",
       "       0.76315789, 0.81578947, 0.86842105, 0.92105263, 0.97368421,\n",
       "       1.02631579, 1.07894737, 1.13157895, 1.18421053, 1.23684211,\n",
       "       1.28947368, 1.34210526, 1.39473684, 1.44736842, 1.5       ])"
      ]
     },
     "execution_count": 6,
     "metadata": {},
     "output_type": "execute_result"
    }
   ],
   "source": [
    "S = np.linspace(0.5, 1.5, 20)\n",
    "b = np.linspace(1.5, 2.5, 20)\n",
    "Af = np.linspace(0.2, 1, 20)\n",
    "c = np.linspace(0.2, 0.8, 20) \n",
    "CLn = np.linspace(1.3, 1.87, 10000)\n",
    "wings = np.array([[S],[b],[Af],[CLn],[c]]) \n",
    "ro = 1.225 \n",
    "V = 10 #[m/s] \n",
    "\n",
    "S\n",
    "\n"
   ]
  }
 ],
 "metadata": {
  "kernelspec": {
   "display_name": "base",
   "language": "python",
   "name": "python3"
  },
  "language_info": {
   "codemirror_mode": {
    "name": "ipython",
    "version": 3
   },
   "file_extension": ".py",
   "mimetype": "text/x-python",
   "name": "python",
   "nbconvert_exporter": "python",
   "pygments_lexer": "ipython3",
   "version": "3.9.12"
  },
  "orig_nbformat": 4
 },
 "nbformat": 4,
 "nbformat_minor": 2
}
