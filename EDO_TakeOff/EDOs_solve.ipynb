{
 "cells": [
  {
   "cell_type": "code",
   "execution_count": 41,
   "metadata": {},
   "outputs": [],
   "source": [
    "from scipy.integrate import odeint\n",
    "from scipy.integrate import quad, solve_ivp\n",
    "from scipy import integrate\n",
    "import numpy as np\n",
    "import ZebraLib as zb\n",
    "import pandas as pd\n",
    "import matplotlib.pyplot as plt\n",
    "import random\n",
    "from tqdm import tqdm"
   ]
  },
  {
   "cell_type": "code",
   "execution_count": 6,
   "metadata": {},
   "outputs": [],
   "source": [
    "def dSdx(x, S):\n",
    "    x, v = S\n",
    "    dxdt = v\n",
    "    dvdt = -v**2 + np.sin(x)\n",
    "    return dxdt, dvdt\n",
    "\n",
    "x_0 = 0\n",
    "v_0 = 5\n",
    "\n",
    "S_0 = np.array([x_0, v_0])\n",
    "\n",
    "t = np.linspace(0, 1, 100)\n",
    "sol = solve_ivp(dSdx, t_span=(min(t), max(t)), y0=S_0, t_eval=t)"
   ]
  },
  {
   "cell_type": "code",
   "execution_count": 119,
   "metadata": {},
   "outputs": [],
   "source": [
    "Zb = zb.Airplane(Load=25)\n",
    "\n",
    "rho=1.225\n",
    "Ground_Effect=False\n",
    "\n",
    "def EDO(t, S):\n",
    "    \n",
    "    x, v = S\n",
    "\n",
    "    dxdt = v\n",
    "\n",
    "    T = Zb.trac_Available(v, rho)\n",
    "    D = Zb.drag_Force(v, Zb.CLLO, rho, Ground_Effect)  # Testar CLmax e CLn or CLLO\n",
    "    R = Zb.mi * (Zb.W - Zb.lift_Force(v, Zb.CLLO, rho))\n",
    "    dvdt = (T - D - R) / (Zb.M)\n",
    "\n",
    "    return [dxdt, dvdt]\n",
    "    \n",
    "x_0 = 0\n",
    "v_0 = 0\n",
    "\n",
    "S_0 = np.array([x_0, v_0])\n",
    "\n",
    "t = np.linspace(0, 50, 1000)\n",
    "sol = solve_ivp(EDO, t_span=(min(t), max(t)), y0=S_0, t_eval=t)"
   ]
  },
  {
   "cell_type": "code",
   "execution_count": 113,
   "metadata": {},
   "outputs": [
    {
     "name": "stderr",
     "output_type": "stream",
     "text": [
      "C:\\Users\\arthu\\AppData\\Local\\Temp/ipykernel_21208/3963329463.py:1: RankWarning: Polyfit may be poorly conditioned\n",
      "  p = zb.fit(sol.y[0], sol.y[1], 50)\n"
     ]
    },
    {
     "data": {
      "text/plain": [
       "(-5.0, 65.0)"
      ]
     },
     "execution_count": 113,
     "metadata": {},
     "output_type": "execute_result"
    },
    {
     "data": {
      "image/png": "[encoded data removed]",
      "text/plain": [
       "<Figure size 432x288 with 1 Axes>"
      ]
     },
     "metadata": {
      "needs_background": "light"
     },
     "output_type": "display_data"
    }
   ],
   "source": [
    "\n",
    "p = zb.fit(sol.y[0], sol.y[1], 50)\n",
    "\n",
    "#plt.plot(sol.t, sol.y[0], label='Distância x(t)')\n",
    "#plt.plot(sol.t, sol.y[1], label='Velocidade v(t)')\n",
    "\n",
    "plt.plot(sol.y[0], sol.y[1], label='Velocidade v(x)')\n",
    "plt.plot(sol.y[0], p(sol.y[0]), c='red',label='Pol p(x)')\n",
    "\n",
    "plt.legend()\n",
    "plt.grid(ls='dotted')\n",
    "plt.xlim(-5, 65)"
   ]
  },
  {
   "cell_type": "code",
   "execution_count": 114,
   "metadata": {},
   "outputs": [
    {
     "data": {
      "text/plain": [
       "718.8962570287398"
      ]
     },
     "execution_count": 114,
     "metadata": {},
     "output_type": "execute_result"
    }
   ],
   "source": [
    "Vlo_index = zb.get_index_of_nearest_element(\n",
    "    sol.y[1], Zb.veloc_Req(Zb.CLmax, rho) * 1.2\n",
    ")\n",
    "\n",
    "sol.y[0][Vlo_index] + Zb.hdist_Obstacle()"
   ]
  },
  {
   "cell_type": "code",
   "execution_count": 115,
   "metadata": {},
   "outputs": [
    {
     "data": {
      "text/plain": [
       "155.08044195058778"
      ]
     },
     "execution_count": 115,
     "metadata": {},
     "output_type": "execute_result"
    }
   ],
   "source": [
    "Zb.takeOff_Distance_EDO() + Zb.hdist_Obstacle()\n"
   ]
  },
  {
   "cell_type": "code",
   "execution_count": 108,
   "metadata": {},
   "outputs": [
    {
     "name": "stderr",
     "output_type": "stream",
     "text": [
      "C:\\Users\\arthu\\anaconda3\\ZebraLib\\zebralib\\zebraperformance.py:2173: RuntimeWarning: invalid value encountered in log\n",
      "  log = np.log(1 + C)\n"
     ]
    },
    {
     "data": {
      "text/plain": [
       "(nan, -833.9664555829512, -8770.251621946156)"
      ]
     },
     "execution_count": 108,
     "metadata": {},
     "output_type": "execute_result"
    }
   ],
   "source": [
    "Zb.takeOff_Distance_Anderson(), Zb.takeOff_Distance_AproxAnderson(), Zb.takeOff_Distance_AproxMiranda()\n"
   ]
  },
  {
   "cell_type": "code",
   "execution_count": null,
   "metadata": {},
   "outputs": [],
   "source": []
  },
  {
   "cell_type": "code",
   "execution_count": null,
   "metadata": {},
   "outputs": [],
   "source": [
    "Zb = zb.Airplane(Load=5.5)\n",
    "\n",
    "rho=1.225\n",
    "Ground_Effect=False\n",
    "pol_grau=6\n",
    "\n",
    "#PRECISA INVERTER OLD V, T --> NEW T, V\n",
    "def ED0_takeOff(t, v): \n",
    "\n",
    "    dxdt = v\n",
    "    T = Zb.trac_Available(v, rho)\n",
    "    D = Zb.drag_Force(v, Zb.CLLO, rho, Ground_Effect)  # Testar CLmax e CLn or CLLO\n",
    "    R = Zb.mi * (Zb.W - Zb.lift_Force(v, Zb.CLLO, rho))\n",
    "    dvdt = (T - D - R) / (Zb.M)\n",
    "\n",
    "    return [dvdt, dxdt]\n",
    "\n",
    "tempo_limite = 20\n",
    "tempo = np.linspace(1e-1, tempo_limite, 20)\n",
    "\n",
    "# Solução EDO V(t) e aproximando para polinômio\n",
    "#V = odeint(ED0_takeOff, 0., tempo)\n",
    "\n",
    "t_span = np.array([0., 20.])\n",
    "Y0 = np.array([0.])\n",
    "\n",
    "V = solve_ivp(ED0_takeOff, t_span, Y0, t_eval=tempo)\n",
    "pol = zb.fit(tempo, V.y[0], pol_grau)  # Polinomio de grau 6\n",
    "\n",
    "V.message"
   ]
  },
  {
   "cell_type": "code",
   "execution_count": null,
   "metadata": {},
   "outputs": [],
   "source": []
  }
 ],
 "metadata": {
  "interpreter": {
   "hash": "894588d70223105318f3a6143f469ff55b12e3d45628534b2f37efc006a33ec3"
  },
  "kernelspec": {
   "display_name": "Python 3.8.8 ('base')",
   "language": "python",
   "name": "python3"
  },
  "language_info": {
   "codemirror_mode": {
    "name": "ipython",
    "version": 3
   },
   "file_extension": ".py",
   "mimetype": "text/x-python",
   "name": "python",
   "nbconvert_exporter": "python",
   "pygments_lexer": "ipython3",
   "version": "3.8.8"
  },
  "orig_nbformat": 4
 },
 "nbformat": 4,
 "nbformat_minor": 2
}
