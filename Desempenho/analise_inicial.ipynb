{
 "cells": [
  {
   "cell_type": "code",
   "execution_count": null,
   "metadata": {},
   "outputs": [],
   "source": [
    "from scipy.integrate import odeint\n",
    "from scipy.integrate import quad, solve_ivp\n",
    "from scipy import integrate\n",
    "import numpy as np\n",
    "import ZebraLib as zb\n",
    "import pandas as pd\n",
    "import matplotlib.pyplot as plt\n",
    "import random\n",
    "from tqdm import tqdm"
   ]
  },
  {
   "cell_type": "code",
   "execution_count": null,
   "metadata": {},
   "outputs": [],
   "source": [
    "Zb = zb.Airplane()\n",
    "\n",
    "Zb2 = zb.Airplane(name='2022', S=1.06, b=2.05, \n",
    "                  c=0.529, Af=0.605, CLmax=1.474, CLn=1.021)\n",
    "\n",
    "Zb3 = zb.Airplane(name='teste', S=1.06, b=2.05, Tc=(-0.001, -0.225, 33.34),\n",
    "                  c=0.529, Af=0.605, CLmax=1.474, CLn=1.021)\n",
    "\n",
    "df = pd.concat([Zb.info(), Zb2.info()], axis=1)\n",
    "df"
   ]
  },
  {
   "cell_type": "code",
   "execution_count": null,
   "metadata": {},
   "outputs": [],
   "source": [
    "def resid(x, args):\n",
    "    rho = args\n",
    "    Zb = zb.Airplane(name='2022', S=1.06, b=2.05, \n",
    "                  c=0.529, Af=0.605, CLmax=1.474, CLn=1.021, Load=x)\n",
    "    return 50 - (Zb.takeOff_Distance_AproxMiranda())\n",
    "        \n",
    "res = zb.robustNewton(resid, (6., 6.), args=0)\n",
    "res"
   ]
  },
  {
   "cell_type": "code",
   "execution_count": null,
   "metadata": {},
   "outputs": [],
   "source": [
    "def resid(x, args):\n",
    "    rho = args\n",
    "    Zb = zb.Airplane(name='2022', S=1.06, b=2.05, \n",
    "                  c=0.529, Af=0.605, CLmax=1.474, CLn=1.021, Load=x)\n",
    "    return 50 - (Zb.takeOff_Distance_EDO())\n",
    "        \n",
    "res = zb.robustNewton(resid, (6., 6.), args=0)\n",
    "res"
   ]
  },
  {
   "cell_type": "code",
   "execution_count": null,
   "metadata": {},
   "outputs": [],
   "source": []
  }
 ],
 "metadata": {
  "interpreter": {
   "hash": "e38bdacfe1d6e2b7e20a64d2eef782d7715e4314dc541be72f500d3c69b94a4f"
  },
  "kernelspec": {
   "display_name": "Python 3.8.8 ('base')",
   "language": "python",
   "name": "python3"
  },
  "language_info": {
   "codemirror_mode": {
    "name": "ipython",
    "version": 3
   },
   "file_extension": ".py",
   "mimetype": "text/x-python",
   "name": "python",
   "nbconvert_exporter": "python",
   "pygments_lexer": "ipython3",
   "version": "3.8.8"
  },
  "orig_nbformat": 4
 },
 "nbformat": 4,
 "nbformat_minor": 2
}
