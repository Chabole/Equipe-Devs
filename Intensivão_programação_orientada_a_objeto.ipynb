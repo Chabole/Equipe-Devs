{
 "cells": [
  {
   "cell_type": "code",
   "execution_count": 129,
   "metadata": {},
   "outputs": [],
   "source": [
    "import numpy as np\n",
    "\n",
    "class ponto:\n",
    "\n",
    "    dim = 3\n",
    "\n",
    "    def __init__(self, x=0, y=0, z=0):\n",
    "\n",
    "        try:\n",
    "            self.x = x[0]\n",
    "            self.y = x[1]\n",
    "            self.z = x[2]\n",
    "\n",
    "        except:\n",
    "            self.x = x\n",
    "            self.y = y\n",
    "            self.z = z\n",
    "\n",
    "    def __add__(self, ponto_B):\n",
    "        A = (self.x - ponto_B.x)**2\n",
    "        B = (self.y - ponto_B.y)**2\n",
    "        C = (self.z - ponto_B.z)**2\n",
    "        return np.sqrt(A+B+C)    \n",
    "\n",
    "    def len(self):\n",
    "        '''\n",
    "        método retorna a dimensão de ponto\n",
    "\n",
    "        >>> import numpy as np\n",
    "        \n",
    "        '''\n",
    "        return ponto.dim\n",
    "        \n",
    "    def mostrar(self):\n",
    "        return [self.x, self.y, self.z]\n",
    "\n",
    "    def RMS(self):\n",
    "        return np.sqrt(self.x**2 + self.y**2 + self.z**2)"
   ]
  },
  {
   "cell_type": "code",
   "execution_count": 130,
   "metadata": {},
   "outputs": [
    {
     "data": {
      "text/plain": [
       "<bound method ponto.len of <__main__.ponto object at 0x0000019FDE11FF40>>"
      ]
     },
     "execution_count": 130,
     "metadata": {},
     "output_type": "execute_result"
    }
   ],
   "source": [
    "ponto_A = ponto((1, 2, 3))\n",
    "ponto_A.len"
   ]
  },
  {
   "cell_type": "code",
   "execution_count": 112,
   "metadata": {},
   "outputs": [],
   "source": [
    "ponto_A = ponto(1, 2, 3)\n",
    "ponto_B = ponto(1, 5, 3)"
   ]
  },
  {
   "cell_type": "code",
   "execution_count": 114,
   "metadata": {},
   "outputs": [
    {
     "data": {
      "text/plain": [
       "3.0"
      ]
     },
     "execution_count": 114,
     "metadata": {},
     "output_type": "execute_result"
    }
   ],
   "source": [
    "ponto_A.__add__(ponto_B)"
   ]
  },
  {
   "cell_type": "code",
   "execution_count": 121,
   "metadata": {},
   "outputs": [],
   "source": [
    "class ponto_herdado(ponto):\n",
    "\n",
    "    def mostrar(self):\n",
    "        return f'Coordenadas {self.x, self.y, self.z}'\n",
    "    \n",
    "    pass"
   ]
  },
  {
   "cell_type": "code",
   "execution_count": 127,
   "metadata": {},
   "outputs": [
    {
     "data": {
      "text/plain": [
       "'Coordenadas (2, 3, 0)'"
      ]
     },
     "execution_count": 127,
     "metadata": {},
     "output_type": "execute_result"
    }
   ],
   "source": [
    "A = ponto(2, 3, 4)\n",
    "B = ponto_herdado(2, 3, 0)\n",
    "\n",
    "B.mostrar()"
   ]
  },
  {
   "cell_type": "code",
   "execution_count": 122,
   "metadata": {},
   "outputs": [],
   "source": [
    "A = ponto_herdado(2, 3, 4)"
   ]
  },
  {
   "cell_type": "code",
   "execution_count": 123,
   "metadata": {},
   "outputs": [
    {
     "data": {
      "text/plain": [
       "'Coordenadas (2, 3, 4)'"
      ]
     },
     "execution_count": 123,
     "metadata": {},
     "output_type": "execute_result"
    }
   ],
   "source": [
    "A.mostrar()"
   ]
  },
  {
   "cell_type": "code",
   "execution_count": 131,
   "metadata": {},
   "outputs": [],
   "source": [
    "import ZebraLib as zb\n",
    "\n",
    "Zb = zb.Airplane()"
   ]
  },
  {
   "cell_type": "code",
   "execution_count": null,
   "metadata": {},
   "outputs": [],
   "source": [
    "Zb.trac_Available"
   ]
  }
 ],
 "metadata": {
  "interpreter": {
   "hash": "894588d70223105318f3a6143f469ff55b12e3d45628534b2f37efc006a33ec3"
  },
  "kernelspec": {
   "display_name": "Python 3.8.8 ('base')",
   "language": "python",
   "name": "python3"
  },
  "language_info": {
   "codemirror_mode": {
    "name": "ipython",
    "version": 3
   },
   "file_extension": ".py",
   "mimetype": "text/x-python",
   "name": "python",
   "nbconvert_exporter": "python",
   "pygments_lexer": "ipython3",
   "version": "3.8.8"
  },
  "orig_nbformat": 4
 },
 "nbformat": 4,
 "nbformat_minor": 2
}
