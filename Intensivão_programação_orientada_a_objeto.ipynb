{
 "cells": [
  {
   "cell_type": "code",
   "execution_count": 103,
   "metadata": {},
   "outputs": [],
   "source": [
    "import numpy as np\n",
    "\n",
    "\n",
    "class ponto:\n",
    "\n",
    "    dim = 3\n",
    "\n",
    "    def __init__(self, x=0, y=0, z=0):\n",
    "        \n",
    "        try:\n",
    "            self.x = x\n",
    "            self.y = y\n",
    "            self.z = z\n",
    "\n",
    "        except:\n",
    "            \n",
    "            self.x = x[0]\n",
    "            self.y = x[1]\n",
    "            self.z = x[2]\n",
    "\n",
    "    def dist_to(self, ponto_B):\n",
    "        A = (self.x - ponto_B.x)**2\n",
    "        B = (self.y - ponto_B.y)**2\n",
    "        C = (self.z - ponto_B.z)**2\n",
    "        return np.sqrt(A+B+C)    \n",
    "\n",
    "    def len(self):\n",
    "        return ponto.dim\n",
    "        \n",
    "    def mostrar(self):\n",
    "        return [self.x, self.y, self.z]\n",
    "\n",
    "    def RMS(self):\n",
    "        return np.sqrt(self.x**2 + self.y**2 + self.z**2)"
   ]
  },
  {
   "cell_type": "code",
   "execution_count": 107,
   "metadata": {},
   "outputs": [
    {
     "data": {
      "text/plain": [
       "3.7416573867739413"
      ]
     },
     "execution_count": 107,
     "metadata": {},
     "output_type": "execute_result"
    }
   ],
   "source": [
    "ponto_A = ponto((1, 2, 3))\n",
    "ponto_A.RMS()"
   ]
  },
  {
   "cell_type": "code",
   "execution_count": 88,
   "metadata": {},
   "outputs": [],
   "source": [
    "ponto_A = ponto(1, 2, 3)\n",
    "ponto_B = ponto(1, 5, 3)"
   ]
  },
  {
   "cell_type": "code",
   "execution_count": 89,
   "metadata": {},
   "outputs": [
    {
     "data": {
      "text/plain": [
       "3.0"
      ]
     },
     "execution_count": 89,
     "metadata": {},
     "output_type": "execute_result"
    }
   ],
   "source": [
    "\n",
    "ponto_A.dist_to(ponto_B)"
   ]
  },
  {
   "cell_type": "code",
   "execution_count": null,
   "metadata": {},
   "outputs": [],
   "source": [
    "        try:\n",
    "            self.x = x[0]\n",
    "            self.y = x[1]\n",
    "            self.z = x[2]\n",
    "        except:\n",
    "            self.x = x\n",
    "            self.y = y\n",
    "            self.z = z"
   ]
  }
 ],
 "metadata": {
  "interpreter": {
   "hash": "894588d70223105318f3a6143f469ff55b12e3d45628534b2f37efc006a33ec3"
  },
  "kernelspec": {
   "display_name": "Python 3.8.8 ('base')",
   "language": "python",
   "name": "python3"
  },
  "language_info": {
   "codemirror_mode": {
    "name": "ipython",
    "version": 3
   },
   "file_extension": ".py",
   "mimetype": "text/x-python",
   "name": "python",
   "nbconvert_exporter": "python",
   "pygments_lexer": "ipython3",
   "version": "3.8.8"
  },
  "orig_nbformat": 4
 },
 "nbformat": 4,
 "nbformat_minor": 2
}
